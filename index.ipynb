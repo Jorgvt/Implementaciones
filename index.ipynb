{
 "cells": [
  {
   "cell_type": "markdown",
   "metadata": {},
   "source": [
    "# Implementaciones\n",
    "\n",
    "> En este repositorio iré guardando las implementaciones que vaya haciendo de algunos algoritmos. Principalmente es una forma de almacenar mis propias notas mientras exploro las implementaciones de otras personas, las cuales han sido tan amables de compartirlas en internet. Por lo pronto la idea es ir siguiendo las implementaciones de [LabML](https://nn.labml.ai/) porque parecen tener bastante buena calidad, pero trataré de incluir notas en castellano y cualquier cosa que me haya sido útil durante el proceso de entender la implementación."
   ]
  }
 ],
 "metadata": {
  "kernelspec": {
   "display_name": "Python 3.8.9 64-bit",
   "language": "python",
   "name": "python3"
  }
 },
 "nbformat": 4,
 "nbformat_minor": 4
}
